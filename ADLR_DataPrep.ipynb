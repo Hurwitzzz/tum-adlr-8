{
 "cells": [
  {
   "cell_type": "code",
   "execution_count": 5,
   "id": "825fc0ed",
   "metadata": {},
   "outputs": [],
   "source": [
    "import numpy as np\n",
    "import matplotlib.pyplot as plt\n",
    "from PIL import Image, ImageFilter\n",
    "import matplotlib.cm as cm\n",
    "import cv2\n",
    "from __future__ import print_function\n",
    "from pathlib import Path\n",
    "import shutil\n"
   ]
  },
  {
   "cell_type": "markdown",
   "id": "a88afee7",
   "metadata": {},
   "source": [
    "# Define path variables"
   ]
  },
  {
   "cell_type": "code",
   "execution_count": 3,
   "id": "1e404bc1",
   "metadata": {},
   "outputs": [],
   "source": [
    "dataset_path = Path(\"/mnt/d/ShapeNetCore.v2/ShapeNetCore.v2\")\n",
    "current_path = Path(\"./\")\n",
    "image_path = current_path / \"dataset\"\n",
    "image_path.mkdir(parents=True, exist_ok=True)\n",
    "data_path = current_path / \"outline\"\n",
    "data_path.mkdir(parents=True, exist_ok=True)\n",
    "sample_path =  current_path / \"sampled\"\n",
    "sample_path.mkdir(parents=True, exist_ok=True)\n",
    "mask_path_highres = current_path / \"mask_highres\"\n",
    "mask_path_highres.mkdir(parents=True, exist_ok=True)\n",
    "mask_path = current_path / \"mask\"\n",
    "mask_path.mkdir(parents=True, exist_ok=True)"
   ]
  },
  {
   "cell_type": "markdown",
   "id": "6bfbe823",
   "metadata": {},
   "source": [
    "# Gather 2D images from ShapeNet base folder"
   ]
  },
  {
   "cell_type": "code",
   "execution_count": null,
   "id": "afcc58bd",
   "metadata": {
    "scrolled": true
   },
   "outputs": [],
   "source": [
    "for img in dataset_path.rglob(\"screenshots/*.png\"):\n",
    "    image_name = img.name\n",
    "    obj_cls = img.parent.parent.parent.name\n",
    "    obj_id = img.parent.parent.name\n",
    "    print(f\"cls : {obj_cls} - id : {obj_id} - image_name : {image_name}\")\n",
    "    img_folder = (image_path / obj_cls)\n",
    "    img_folder.mkdir(parents=True, exist_ok=True)\n",
    "    shutil.copy(img, img_folder / image_name)"
   ]
  },
  {
   "cell_type": "markdown",
   "id": "5c27f623",
   "metadata": {},
   "source": [
    "# Create object masks"
   ]
  },
  {
   "cell_type": "code",
   "execution_count": 8,
   "id": "d9670770",
   "metadata": {},
   "outputs": [],
   "source": [
    "for path in image_path.rglob(\"*.png\"):\n",
    "    # Read image\n",
    "    im_in = cv2.imread(str(path), cv2.IMREAD_GRAYSCALE)\n",
    "\n",
    "    # Threshold.\n",
    "    th, im_th = cv2.threshold(im_in, 254, 255, cv2.THRESH_BINARY)\n",
    "    im_th_inv=cv2.bitwise_not(im_th)\n",
    "\n",
    "    # # Copy the thresholded image.\n",
    "    im_floodfill = im_th.copy()\n",
    "\n",
    "    # # Mask used to flood filling.\n",
    "    # # Notice the size needs to be 2 pixels than the image.\n",
    "    h, w = im_th.shape[:2]\n",
    "    mask = np.zeros((h+2, w+2), np.uint8)\n",
    "\n",
    "    # # Floodfill from point (0, 0)\n",
    "    cv2.floodFill(im_floodfill, mask, (0,0), 0)\n",
    "    # # Combine the two images to get the foreground.\n",
    "    im_out = im_th_inv | im_floodfill\n",
    "\n",
    "    save_dir = mask_path_highres / path.parent.name\n",
    "    save_dir.mkdir(parents=True, exist_ok=True)\n",
    "    \n",
    "    cv2.imwrite(str(save_dir / path.name), im_out)"
   ]
  },
  {
   "cell_type": "markdown",
   "id": "cc8d311d",
   "metadata": {},
   "source": [
    "# Resize and crop to object"
   ]
  },
  {
   "cell_type": "code",
   "execution_count": 6,
   "id": "59909ce2",
   "metadata": {},
   "outputs": [],
   "source": [
    "resize = (100,100)\n",
    "antialias_threshold = 30"
   ]
  },
  {
   "cell_type": "code",
   "execution_count": 12,
   "id": "f259d2af",
   "metadata": {},
   "outputs": [],
   "source": [
    "for path in mask_path_highres.rglob(\"*.png\"):\n",
    "    mask = np.array(Image.open(path))\n",
    "    \n",
    "    width , height  = mask.shape\n",
    "    \n",
    "    left = np.argmax(np.argmax(mask, axis=0) > 0)\n",
    "    top = np.argmax(np.argmax(mask, axis=1) > 0)\n",
    "    right = width - np.argmax(np.argmax(np.flip(mask), axis=0) > 0)\n",
    "    bottom = height - np.argmax(np.argmax(np.flip(mask), axis=1) > 0)\n",
    "    \n",
    "    height, width = bottom - top, right - left\n",
    "    side = max(height, width)\n",
    "        \n",
    "    mask = mask[top:top+height, left:left+width]\n",
    "    mask = np.pad(mask, (((side-height) // 2, (side-height) // 2), \n",
    "                         ((side-width) // 2, (side-width) // 2)))\n",
    "    \n",
    "    mask = Image.fromarray(mask).resize(resize, 3)\n",
    "    mask = np.array(mask, dtype=np.uint8) > antialias_threshold\n",
    "        \n",
    "    mask = Image.fromarray(mask)\n",
    "        \n",
    "    save_dir = mask_path / path.parent.name\n",
    "    save_dir.mkdir(parents=True, exist_ok=True)\n",
    "    \n",
    "\n",
    "    mask.save(save_dir / path.name)"
   ]
  },
  {
   "cell_type": "markdown",
   "id": "2916bfe9",
   "metadata": {},
   "source": [
    "# Get the outline from masks"
   ]
  },
  {
   "cell_type": "code",
   "execution_count": 13,
   "id": "fa781e7c",
   "metadata": {},
   "outputs": [],
   "source": [
    "for path in mask_path.rglob(\"*.png\"):\n",
    "    img = Image.open(path).convert(\"L\")\n",
    "    img = img.filter(ImageFilter.FIND_EDGES)\n",
    "    \n",
    "    save_dir = data_path / path.parent.name\n",
    "    save_dir.mkdir(parents=True, exist_ok=True)\n",
    "    \n",
    "    img.save(save_dir / path.name)"
   ]
  },
  {
   "cell_type": "markdown",
   "id": "182a3c56",
   "metadata": {},
   "source": [
    "# Sample outline points for the input representation"
   ]
  },
  {
   "cell_type": "code",
   "execution_count": 25,
   "id": "1e0e4293",
   "metadata": {},
   "outputs": [],
   "source": [
    "n_sample = 100\n",
    "n_from_each = 1"
   ]
  },
  {
   "cell_type": "code",
   "execution_count": 26,
   "id": "bfc3d69e",
   "metadata": {},
   "outputs": [],
   "source": [
    "import scipy, threading"
   ]
  },
  {
   "cell_type": "code",
   "execution_count": null,
   "id": "cb1b41b9",
   "metadata": {},
   "outputs": [],
   "source": [
    "for path in data_path.rglob(\"*.png\"):\n",
    "    img = Image.open(path)\n",
    "    img = np.array(img, dtype=np.uint8)\n",
    "    \n",
    "    n = np.count_nonzero(img)\n",
    "\n",
    "    sparse_img = scipy.sparse.coo_matrix(np.array(img))\n",
    "    \n",
    "    def get_sample(sparse_img, n, i):\n",
    "    \n",
    "        samples = np.random.choice(np.arange(0, n), n_sample, False)\n",
    "\n",
    "        sparse_img = scipy.sparse.coo_matrix((sparse_img.data[samples], \n",
    "                                          (sparse_img.row[samples], sparse_img.col[samples])), \n",
    "                                         (100, 100))\n",
    "        img = sparse_img.todense()\n",
    "        img = Image.fromarray(img)\n",
    "\n",
    "\n",
    "        save_dir = sample_path2 / path.parent.name\n",
    "        save_dir.mkdir(parents=True, exist_ok=True)\n",
    "        img.save(save_dir / (f\"{i}_\" + path.name))\n",
    "    \n",
    "    threads = []\n",
    "    for i in range(n_from_each):\n",
    "        t = threading.Thread(target=get_sample, args=(sparse_img, n, i))\n",
    "        threads.append(t)\n",
    "        t.start()\n",
    "    for t in threads:\n",
    "        t.join()"
   ]
  },
  {
   "cell_type": "code",
   "execution_count": null,
   "id": "2b03da19",
   "metadata": {},
   "outputs": [],
   "source": []
  }
 ],
 "metadata": {
  "kernelspec": {
   "display_name": "adlr",
   "language": "python",
   "name": "adlr"
  },
  "language_info": {
   "codemirror_mode": {
    "name": "ipython",
    "version": 3
   },
   "file_extension": ".py",
   "mimetype": "text/x-python",
   "name": "python",
   "nbconvert_exporter": "python",
   "pygments_lexer": "ipython3",
   "version": "3.8.13"
  }
 },
 "nbformat": 4,
 "nbformat_minor": 5
}
